{
  "nbformat": 4,
  "nbformat_minor": 0,
  "metadata": {
    "colab": {
      "provenance": [],
      "authorship_tag": "ABX9TyMo/7pBsUg9j8iuSH6xqSl6"
    },
    "kernelspec": {
      "name": "python3",
      "display_name": "Python 3"
    },
    "language_info": {
      "name": "python"
    }
  },
  "cells": [
    {
      "cell_type": "markdown",
      "source": [
        "\n",
        "\n",
        "---\n",
        "\n",
        "\n",
        "\n",
        "---\n",
        "\n",
        "\n",
        "# **Praktikum Machine Learning: Klasifikasi Data (Dataset Wine)**\n",
        "\n",
        "\n",
        "---\n",
        "\n",
        "\n",
        "\n",
        "---\n",
        "\n"
      ],
      "metadata": {
        "id": "U25YmO4jF814"
      }
    },
    {
      "cell_type": "markdown",
      "source": [
        "# Langkah 1: Import Library"
      ],
      "metadata": {
        "id": "J-yZv-g6GJlJ"
      }
    },
    {
      "cell_type": "code",
      "execution_count": 1,
      "metadata": {
        "id": "BjqKwDNLF15S"
      },
      "outputs": [],
      "source": [
        "import numpy as np\n",
        "import pandas as pd\n",
        "import matplotlib.pyplot as plt\n",
        "from sklearn.model_selection import train_test_split\n",
        "from sklearn.preprocessing import StandardScaler\n",
        "from sklearn.linear_model import LogisticRegression\n",
        "from sklearn.neighbors import KNeighborsClassifier\n",
        "from sklearn.tree import DecisionTreeClassifier\n",
        "from sklearn.svm import SVC\n",
        "from sklearn.metrics import classification_report, confusion_matrix, accuracy_score\n"
      ]
    },
    {
      "cell_type": "markdown",
      "source": [
        "# Langkah 2: Load Dataset"
      ],
      "metadata": {
        "id": "KoReQw6lGOnH"
      }
    },
    {
      "cell_type": "code",
      "source": [
        "from sklearn.datasets import load_wine\n",
        "\n",
        "wine = load_wine()\n",
        "X = wine.data\n",
        "y = wine.target\n",
        "\n",
        "print(\"Jumlah data:\", X.shape[0])\n",
        "print(\"Jumlah fitur:\", X.shape[1])\n",
        "print(\"Nama kelas:\", wine.target_names)\n"
      ],
      "metadata": {
        "colab": {
          "base_uri": "https://localhost:8080/"
        },
        "id": "vtuT7qbLGSFp",
        "outputId": "a1c4c855-d66b-4311-a94d-fe0d6ccc2a58"
      },
      "execution_count": 2,
      "outputs": [
        {
          "output_type": "stream",
          "name": "stdout",
          "text": [
            "Jumlah data: 178\n",
            "Jumlah fitur: 13\n",
            "Nama kelas: ['class_0' 'class_1' 'class_2']\n"
          ]
        }
      ]
    },
    {
      "cell_type": "markdown",
      "source": [
        "# Langkah 3: Split Data"
      ],
      "metadata": {
        "id": "WGRyF3JKGRkx"
      }
    },
    {
      "cell_type": "code",
      "source": [
        "X_train, X_test, y_train, y_test = train_test_split(\n",
        "    X, y, test_size=0.2, random_state=42, stratify=y\n",
        ")\n"
      ],
      "metadata": {
        "id": "dng4gF-GGewu"
      },
      "execution_count": 3,
      "outputs": []
    },
    {
      "cell_type": "markdown",
      "source": [
        "# Langkah 4: Normalisasi Data"
      ],
      "metadata": {
        "id": "TLAGlZKZGjEC"
      }
    },
    {
      "cell_type": "code",
      "source": [
        "scaler = StandardScaler()\n",
        "X_train = scaler.fit_transform(X_train)\n",
        "X_test = scaler.transform(X_test)\n"
      ],
      "metadata": {
        "id": "-prlz8tGGkEM"
      },
      "execution_count": 4,
      "outputs": []
    },
    {
      "cell_type": "markdown",
      "source": [
        "# Langkah 5: Logistic Regression"
      ],
      "metadata": {
        "id": "2NG9MeVXGpFo"
      }
    },
    {
      "cell_type": "code",
      "source": [
        "logreg = LogisticRegression(max_iter=500)\n",
        "logreg.fit(X_train, y_train)\n",
        "y_pred_logreg = logreg.predict(X_test)\n"
      ],
      "metadata": {
        "id": "NEj__4TCGqNQ"
      },
      "execution_count": 5,
      "outputs": []
    },
    {
      "cell_type": "markdown",
      "source": [
        "# Langkah 6: K-Nearest Neighbors (KNN)"
      ],
      "metadata": {
        "id": "u6MiGsLrGsve"
      }
    },
    {
      "cell_type": "code",
      "source": [
        "knn = KNeighborsClassifier(n_neighbors=5)\n",
        "knn.fit(X_train, y_train)\n",
        "y_pred_knn = knn.predict(X_test)\n"
      ],
      "metadata": {
        "id": "hoinjEOlGwcw"
      },
      "execution_count": 6,
      "outputs": []
    },
    {
      "cell_type": "markdown",
      "source": [
        "# Langkah 7: Decision Tree"
      ],
      "metadata": {
        "id": "r5u3Fpa5Hq6Y"
      }
    },
    {
      "cell_type": "code",
      "source": [
        "tree = DecisionTreeClassifier(random_state=42)\n",
        "tree.fit(X_train, y_train)\n",
        "y_pred_tree = tree.predict(X_test)\n"
      ],
      "metadata": {
        "id": "GdyUTJnDHstd"
      },
      "execution_count": 7,
      "outputs": []
    },
    {
      "cell_type": "markdown",
      "source": [
        "# Langkah 8: Support Vector Machine (SVM)"
      ],
      "metadata": {
        "id": "ZXRGKTwcHyno"
      }
    },
    {
      "cell_type": "code",
      "source": [
        "svm = SVC(kernel='linear')\n",
        "svm.fit(X_train, y_train)\n",
        "y_pred_svm = svm.predict(X_test)\n"
      ],
      "metadata": {
        "id": "sUpsgj6hHzom"
      },
      "execution_count": 8,
      "outputs": []
    },
    {
      "cell_type": "markdown",
      "source": [
        "# Langkah 9: Bandingkan Model (Dengan Grafik)"
      ],
      "metadata": {
        "id": "isSoUmSNH7W8"
      }
    },
    {
      "cell_type": "code",
      "source": [
        "results = {\n",
        "    \"Logistic Regression\": accuracy_score(y_test, y_pred_logreg),\n",
        "    \"KNN\": accuracy_score(y_test, y_pred_knn),\n",
        "    \"Decision Tree\": accuracy_score(y_test, y_pred_tree),\n",
        "    \"SVM\": accuracy_score(y_test, y_pred_svm)\n",
        "}\n",
        "\n",
        "# Cetak hasil akurasi\n",
        "for model, acc in results.items():\n",
        "    print(f\"{model}: {acc:.3f}\")\n",
        "\n",
        "# Visualisasi grafik\n",
        "plt.figure(figsize=(8,5))\n",
        "plt.bar(results.keys(), results.values(), color=['blue','orange','green','red'])\n",
        "plt.ylabel(\"Akurasi\")\n",
        "plt.title(\"Perbandingan Akurasi Model di Dataset Wine\")\n",
        "plt.ylim(0,1)\n",
        "plt.show()\n"
      ],
      "metadata": {
        "colab": {
          "base_uri": "https://localhost:8080/",
          "height": 538
        },
        "id": "Fh5Iz9F8H86F",
        "outputId": "9fd3e5e6-d337-48b6-e870-b9c0266aae8e"
      },
      "execution_count": 9,
      "outputs": [
        {
          "output_type": "stream",
          "name": "stdout",
          "text": [
            "Logistic Regression: 0.972\n",
            "KNN: 0.972\n",
            "Decision Tree: 0.944\n",
            "SVM: 0.944\n"
          ]
        },
        {
          "output_type": "display_data",
          "data": {
            "text/plain": [
              "<Figure size 800x500 with 1 Axes>"
            ],
            "image/png": "[encoded data removed]"
          },
          "metadata": {}
        }
      ]
    }
  ]
}
