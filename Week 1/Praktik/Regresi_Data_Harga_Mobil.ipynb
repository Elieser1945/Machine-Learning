{
  "nbformat": 4,
  "nbformat_minor": 0,
  "metadata": {
    "colab": {
      "provenance": [],
      "authorship_tag": "ABX9TyNUSOptR5XlerI8ugitikvt"
    },
    "kernelspec": {
      "name": "python3",
      "display_name": "Python 3"
    },
    "language_info": {
      "name": "python"
    }
  },
  "cells": [
    {
      "cell_type": "markdown",
      "source": [
        "\n",
        "\n",
        "---\n",
        "\n",
        "\n",
        "\n",
        "---\n",
        "\n",
        "\n",
        "# **Machine Learning: Regresi Data Harga Mobil**\n",
        "\n",
        "\n",
        "---\n",
        "\n",
        "\n",
        "\n",
        "---\n",
        "\n"
      ],
      "metadata": {
        "id": "j3SOscWSJWLN"
      }
    },
    {
      "cell_type": "markdown",
      "source": [
        "# Langkah 1: Import Library"
      ],
      "metadata": {
        "id": "MhvjdnXNJhUl"
      }
    },
    {
      "cell_type": "code",
      "execution_count": 1,
      "metadata": {
        "id": "6exNMVWDJKiP"
      },
      "outputs": [],
      "source": [
        "import numpy as np\n",
        "import pandas as pd\n",
        "import matplotlib.pyplot as plt\n",
        "from sklearn.model_selection import train_test_split\n",
        "from sklearn.preprocessing import StandardScaler\n",
        "from sklearn.linear_model import LinearRegression\n",
        "from sklearn.tree import DecisionTreeRegressor\n",
        "from sklearn.ensemble import RandomForestRegressor\n",
        "from sklearn.svm import SVR\n",
        "from sklearn.metrics import mean_squared_error, mean_absolute_error, r2_score\n"
      ]
    },
    {
      "cell_type": "markdown",
      "source": [
        "# Langkah 2: Dataset Dummy Harga Mobil"
      ],
      "metadata": {
        "id": "Ld7VWtuSJmsG"
      }
    },
    {
      "cell_type": "code",
      "source": [
        "data = {\n",
        "    \"year\": [2015,2012,2018,2020,2017,2014,2016,2013,2019,2021,\n",
        "             2011,2010,2015,2018,2016,2012,2019,2020,2014,2013],\n",
        "    \"mileage\": [50000,80000,30000,20000,40000,90000,60000,75000,25000,15000,\n",
        "                120000,110000,55000,35000,45000,95000,28000,18000,85000,70000],\n",
        "    \"engine_size\": [1.6,2.0,1.8,2.2,2.0,1.5,1.6,1.8,2.4,2.5,\n",
        "                    1.4,1.3,1.8,2.0,1.6,1.5,2.2,2.3,1.5,1.7],\n",
        "    \"horsepower\": [110,150,130,180,160,100,120,140,200,210,\n",
        "                   90,85,125,150,115,105,175,185,95,118],\n",
        "    \"weight\": [1200,1500,1300,1600,1400,1100,1250,1350,1700,1750,\n",
        "               1000,980,1280,1450,1220,1080,1650,1680,1120,1260],\n",
        "    \"price\": [15000,10000,20000,25000,18000,9000,16000,13000,27000,30000,\n",
        "              7000,6500,15500,21000,16500,9500,24000,26000,8800,14000]\n",
        "}\n",
        "\n",
        "df = pd.DataFrame(data)\n",
        "print(df.head())\n"
      ],
      "metadata": {
        "colab": {
          "base_uri": "https://localhost:8080/"
        },
        "id": "EeJN5Xn5Jny-",
        "outputId": "a69aad52-0139-4cc8-edc2-cb9cfbfbe75a"
      },
      "execution_count": 2,
      "outputs": [
        {
          "output_type": "stream",
          "name": "stdout",
          "text": [
            "   year  mileage  engine_size  horsepower  weight  price\n",
            "0  2015    50000          1.6         110    1200  15000\n",
            "1  2012    80000          2.0         150    1500  10000\n",
            "2  2018    30000          1.8         130    1300  20000\n",
            "3  2020    20000          2.2         180    1600  25000\n",
            "4  2017    40000          2.0         160    1400  18000\n"
          ]
        }
      ]
    },
    {
      "cell_type": "markdown",
      "source": [
        "# Langkah 3: Pisahkan Fitur dan Target"
      ],
      "metadata": {
        "id": "lreAVqiCJvOI"
      }
    },
    {
      "cell_type": "code",
      "source": [
        "X = df.drop(\"price\", axis=1)\n",
        "y = df[\"price\"]\n"
      ],
      "metadata": {
        "id": "haH-5mmcJwUP"
      },
      "execution_count": 3,
      "outputs": []
    },
    {
      "cell_type": "markdown",
      "source": [
        "# Langkah 4: Split Data"
      ],
      "metadata": {
        "id": "bMTF4KLVJ0cJ"
      }
    },
    {
      "cell_type": "code",
      "source": [
        "X_train, X_test, y_train, y_test = train_test_split(\n",
        "    X, y, test_size=0.2, random_state=42\n",
        ")\n"
      ],
      "metadata": {
        "id": "xVNhqDs0J1g6"
      },
      "execution_count": 4,
      "outputs": []
    },
    {
      "cell_type": "markdown",
      "source": [
        "# Langkah 5: Normalisasi Data"
      ],
      "metadata": {
        "id": "aMfcblU8J6ZS"
      }
    },
    {
      "cell_type": "code",
      "source": [
        "scaler = StandardScaler()\n",
        "X_train = scaler.fit_transform(X_train)\n",
        "X_test = scaler.transform(X_test)\n"
      ],
      "metadata": {
        "id": "itGxb7HkJ7cx"
      },
      "execution_count": 5,
      "outputs": []
    },
    {
      "cell_type": "markdown",
      "source": [
        "## Langkah 6: Linear Regression"
      ],
      "metadata": {
        "id": "SBNKP1QzKCzz"
      }
    },
    {
      "cell_type": "code",
      "source": [
        "linreg = LinearRegression()\n",
        "linreg.fit(X_train, y_train)\n",
        "y_pred_lin = linreg.predict(X_test)\n"
      ],
      "metadata": {
        "id": "TJwPmIAfKEXi"
      },
      "execution_count": 6,
      "outputs": []
    },
    {
      "cell_type": "markdown",
      "source": [
        "# Langkah 7: Decision Tree Regressor"
      ],
      "metadata": {
        "id": "R6MlaPE1KMV1"
      }
    },
    {
      "cell_type": "code",
      "source": [
        "tree = DecisionTreeRegressor(random_state=42)\n",
        "tree.fit(X_train, y_train)\n",
        "y_pred_tree = tree.predict(X_test)\n"
      ],
      "metadata": {
        "id": "UsxLQfCVKRc8"
      },
      "execution_count": 7,
      "outputs": []
    },
    {
      "cell_type": "markdown",
      "source": [
        "# Langkah 8: Random Forest Regressor"
      ],
      "metadata": {
        "id": "idfb_M_8KbcW"
      }
    },
    {
      "cell_type": "code",
      "source": [
        "forest = RandomForestRegressor(n_estimators=100, random_state=42)\n",
        "forest.fit(X_train, y_train)\n",
        "y_pred_forest = forest.predict(X_test)\n"
      ],
      "metadata": {
        "id": "p5jfaJUjKckO"
      },
      "execution_count": 8,
      "outputs": []
    },
    {
      "cell_type": "markdown",
      "source": [
        "# Langkah 9: Support Vector Regressor (SVR)"
      ],
      "metadata": {
        "id": "qTuxyDCmKiDR"
      }
    },
    {
      "cell_type": "code",
      "source": [
        "svr = SVR(kernel='linear')\n",
        "svr.fit(X_train, y_train)\n",
        "y_pred_svr = svr.predict(X_test)\n"
      ],
      "metadata": {
        "id": "kYruU5EGKjV-"
      },
      "execution_count": 9,
      "outputs": []
    },
    {
      "cell_type": "markdown",
      "source": [
        "# Langkah 10: Evaluasi Model"
      ],
      "metadata": {
        "id": "2_M_Kx7gKoIg"
      }
    },
    {
      "cell_type": "code",
      "source": [
        "models = {\n",
        "    \"Linear Regression\": y_pred_lin,\n",
        "    \"Decision Tree\": y_pred_tree,\n",
        "    \"Random Forest\": y_pred_forest,\n",
        "    \"SVR\": y_pred_svr\n",
        "}\n",
        "\n",
        "results = {}\n",
        "for name, y_pred in models.items():\n",
        "    mse = mean_squared_error(y_test, y_pred)\n",
        "    rmse = np.sqrt(mse)\n",
        "    mae = mean_absolute_error(y_test, y_pred)\n",
        "    r2 = r2_score(y_test, y_pred)\n",
        "    results[name] = [mse, rmse, mae, r2]\n",
        "\n",
        "results_df = pd.DataFrame(results, index=[\"MSE\",\"RMSE\",\"MAE\",\"R²\"]).T\n",
        "print(results_df)\n"
      ],
      "metadata": {
        "colab": {
          "base_uri": "https://localhost:8080/"
        },
        "id": "5Gt_d_VFKpVw",
        "outputId": "31732c17-223d-486a-d6b0-3e4e6edeb06f"
      },
      "execution_count": 10,
      "outputs": [
        {
          "output_type": "stream",
          "name": "stdout",
          "text": [
            "                            MSE         RMSE          MAE        R²\n",
            "Linear Regression  6.763398e+06  2600.653456  1527.459880  0.846450\n",
            "Decision Tree      3.125000e+06  1767.766953  1500.000000  0.929053\n",
            "Random Forest      5.193027e+06  2278.821351  1541.750000  0.882102\n",
            "SVR                4.467763e+07  6684.132875  5962.499118 -0.014320\n"
          ]
        }
      ]
    },
    {
      "cell_type": "markdown",
      "source": [
        "# Langkah 11: Visualisasi Perbandingan"
      ],
      "metadata": {
        "id": "zv6W0NIaKumx"
      }
    },
    {
      "cell_type": "code",
      "source": [
        "plt.figure(figsize=(8,5))\n",
        "plt.bar(results_df.index, results_df[\"R²\"], color=['blue','orange','green','red'])\n",
        "plt.ylabel(\"R² Score\")\n",
        "plt.title(\"Perbandingan Model Regresi (Harga Mobil Dummy)\")\n",
        "plt.ylim(0,1)\n",
        "plt.show()\n"
      ],
      "metadata": {
        "colab": {
          "base_uri": "https://localhost:8080/",
          "height": 465
        },
        "id": "CDnVRT00Kvyv",
        "outputId": "a5022d77-3074-4b1d-bf30-60b4b0a2b1c7"
      },
      "execution_count": 11,
      "outputs": [
        {
          "output_type": "display_data",
          "data": {
            "text/plain": [
              "<Figure size 800x500 with 1 Axes>"
            ],
            "image/png": "[encoded data removed]"
          },
          "metadata": {}
        }
      ]
    }
  ]
}
